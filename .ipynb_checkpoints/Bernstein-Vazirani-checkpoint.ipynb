{
 "cells": [
  {
   "cell_type": "code",
   "execution_count": null,
   "metadata": {},
   "outputs": [],
   "source": [
    "from qiskit import *\n",
    "%matplotlib inline\n",
    "from qiskit.tools.visualization import plot_histogram\n",
    "secretnumber = '110011'\n",
    "circuit = QuantumCircuit(len(secretnumber)+1,len(secretnumber))\n",
    "circuit.h(range(len(secretnumber)))\n",
    "circuit.x(range(len(secretnumber)))\n",
    "circuit.h(range(len(secretnumber)))\n",
    "circuit.barrier()"
   ]
  }
 ],
 "metadata": {
  "kernelspec": {
   "display_name": "Python 3",
   "language": "python",
   "name": "python3"
  },
  "language_info": {
   "codemirror_mode": {
    "name": "ipython",
    "version": 3
   },
   "file_extension": ".py",
   "mimetype": "text/x-python",
   "name": "python",
   "nbconvert_exporter": "python",
   "pygments_lexer": "ipython3",
   "version": "3.8.2"
  }
 },
 "nbformat": 4,
 "nbformat_minor": 4
}
